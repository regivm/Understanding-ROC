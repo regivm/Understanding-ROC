{
 "cells": [
  {
   "cell_type": "markdown",
   "metadata": {},
   "source": [
    "## Understanding ROC"
   ]
  },
  {
   "cell_type": "code",
   "execution_count": 4,
   "metadata": {},
   "outputs": [],
   "source": [
    "import numpy as np\n",
    "import pandas as pd\n",
    "import scipy.stats as stats\n",
    "from scipy.stats import norm  \n",
    "import seaborn as sns\n",
    "import matplotlib.pyplot as plt\n",
    "%matplotlib inline\n",
    "\n",
    "from sklearn.metrics import roc_curve, auc, confusion_matrix, accuracy_score\n",
    "\n",
    "import random\n",
    "random.seed(100)"
   ]
  },
  {
   "cell_type": "code",
   "execution_count": 5,
   "metadata": {},
   "outputs": [],
   "source": [
    "from ipywidgets import interact, interactive, fixed, interact_manual\n",
    "import ipywidgets as widgets\n",
    "from IPython.display import display\n",
    "from scipy.optimize import curve_fit as cf"
   ]
  },
  {
   "cell_type": "markdown",
   "metadata": {},
   "source": [
    "### Let's draw ROC curve by changing cut-off value\n",
    "\n",
    "ROC curve is created by changing the cutoff value. Each point in the curve refer to a cutoff value. "
   ]
  },
  {
   "cell_type": "code",
   "execution_count": 6,
   "metadata": {},
   "outputs": [],
   "source": [
    "def dfcreate(qlty):\n",
    "    df=pd.DataFrame()\n",
    "    #qlty = 10\n",
    "    std=0.05\n",
    "    adj = ((qlty)/10)*0.20\n",
    "\n",
    "    lsty = pd.DataFrame(list((np.random.randn(5000))*std + (0.5+adj)), columns=['prob'])\n",
    "    y = pd.DataFrame(list(np.ones(5000)), columns=['y'])\n",
    "    lsty = pd.concat([lsty,y], axis=1)\n",
    "\n",
    "    lstn = pd.DataFrame(list((np.random.randn(5000))*std + (0.5-adj)), columns=['prob'])\n",
    "    n = pd.DataFrame(list(np.zeros(5000)), columns=['y'])\n",
    "    lstn = pd.concat([lstn,n], axis=1)\n",
    "\n",
    "    df = pd.concat([lsty,lstn], axis=0)\n",
    "    df = df[(df['prob']<=1) & (df['prob']>=0)]\n",
    "\n",
    "    return df"
   ]
  },
  {
   "cell_type": "code",
   "execution_count": 7,
   "metadata": {},
   "outputs": [],
   "source": [
    "## specify quality of model here. Any integer between 0(worst) and 10(best)\n",
    "\n",
    "qlty=2\n",
    "df = dfcreate(qlty)"
   ]
  },
  {
   "cell_type": "code",
   "execution_count": 8,
   "metadata": {},
   "outputs": [],
   "source": [
    "def tpfp(co):\n",
    "    df['y_pred'] = df['prob'].apply(lambda x: 1 if x>co else 0)\n",
    "    tn, fp, fn, tp = confusion_matrix(df['y'], df['y_pred']).ravel()\n",
    "    tpp = tp/(tp+fn+0.001)\n",
    "    fpp = fp/(fp+tn+0.001)\n",
    "    fig, ax = plt.subplots()\n",
    "    plt.scatter(fpp,tpp,edgecolors='k')\n",
    "    ax.set_xlim(0, 1.1)\n",
    "    ax.set_ylim(0, 1.1)\n",
    "    ax.set_xlabel('FPR')\n",
    "    ax.set_ylabel('TPR')\n",
    "    plt.grid(True)\n",
    "    plt.show()\n",
    "    \n",
    "    return (tp)"
   ]
  },
  {
   "cell_type": "code",
   "execution_count": 13,
   "metadata": {},
   "outputs": [
    {
     "data": {
      "application/vnd.jupyter.widget-view+json": {
       "model_id": "c95708cebffd4f2eba04440fdad6153d",
       "version_major": 2,
       "version_minor": 0
      },
      "text/plain": [
       "interactive(children=(FloatSlider(value=0.5, description='co', max=0.65, min=0.35, step=0.01), Output()), _dom…"
      ]
     },
     "metadata": {},
     "output_type": "display_data"
    }
   ],
   "source": [
    "# move the slider to change cut-off value\n",
    "\n",
    "y=interactive(tpfp, co=(0.35,0.65,0.01))\n",
    "display(y)"
   ]
  },
  {
   "cell_type": "markdown",
   "metadata": {},
   "source": [
    "### Let's connect ROC curve with Model Quality\n",
    "\n",
    "Shape of ROC curve depends on the quality of the model. Here we look at the ROC curve for worst to the best model."
   ]
  },
  {
   "cell_type": "code",
   "execution_count": 10,
   "metadata": {},
   "outputs": [],
   "source": [
    "def makeroc(qlty):\n",
    "    df = dfcreate(qlty)\n",
    "    # Let's draw ROC curve and look at the area under curve\n",
    "    df['y_pred'] = df['prob'].apply(lambda x: 1 if x>0.5 else 0)\n",
    "\n",
    "    fpr, tpr, thresholds = roc_curve(df['y'], df['prob'])\n",
    "    roc_auc = auc(fpr, tpr)\n",
    "    #print(roc_auc)\n",
    "\n",
    "    plt.figure()\n",
    "    plt.xlabel('False Positive Rate')\n",
    "    plt.ylabel('True Positive Rate')\n",
    "    plt.plot([0, 1], [0, 1], color='navy', linestyle='--')\n",
    "    plt.xlim([0.0, 1.0])\n",
    "    plt.ylim([0.0, 1.05])\n",
    "    plt.title('ROC of Model')\n",
    "    plt.plot(fpr, tpr, color='blue', lw=2, label='Area under ROC curve = %0.2f)' % roc_auc)\n",
    "    plt.legend(loc=\"lower right\")\n",
    "    plt.show()"
   ]
  },
  {
   "cell_type": "code",
   "execution_count": 12,
   "metadata": {},
   "outputs": [
    {
     "data": {
      "application/vnd.jupyter.widget-view+json": {
       "model_id": "509b1f9e673646739fae3b337fa64f70",
       "version_major": 2,
       "version_minor": 0
      },
      "text/plain": [
       "interactive(children=(IntSlider(value=2, description='qlty', max=5), Output()), _dom_classes=('widget-interact…"
      ]
     },
     "metadata": {},
     "output_type": "display_data"
    }
   ],
   "source": [
    "# move the slider to change the quality of model\n",
    "y=interactive(makeroc, qlty=(0,5,1))\n",
    "display(y)"
   ]
  },
  {
   "cell_type": "code",
   "execution_count": null,
   "metadata": {},
   "outputs": [],
   "source": []
  },
  {
   "cell_type": "code",
   "execution_count": null,
   "metadata": {},
   "outputs": [],
   "source": []
  },
  {
   "cell_type": "code",
   "execution_count": null,
   "metadata": {},
   "outputs": [],
   "source": []
  },
  {
   "cell_type": "code",
   "execution_count": null,
   "metadata": {},
   "outputs": [],
   "source": []
  }
 ],
 "metadata": {
  "kernelspec": {
   "display_name": "Python 3",
   "language": "python",
   "name": "python3"
  },
  "language_info": {
   "codemirror_mode": {
    "name": "ipython",
    "version": 3
   },
   "file_extension": ".py",
   "mimetype": "text/x-python",
   "name": "python",
   "nbconvert_exporter": "python",
   "pygments_lexer": "ipython3",
   "version": "3.7.1"
  }
 },
 "nbformat": 4,
 "nbformat_minor": 2
}
